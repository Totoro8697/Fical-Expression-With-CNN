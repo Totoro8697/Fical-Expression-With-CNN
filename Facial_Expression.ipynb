{
  "nbformat": 4,
  "nbformat_minor": 0,
  "metadata": {
    "colab": {
      "name": "Deneme.ipynb",
      "provenance": [],
      "collapsed_sections": []
    },
    "kernelspec": {
      "name": "python3",
      "display_name": "Python 3"
    },
    "accelerator": "GPU"
  },
  "cells": [
    {
      "cell_type": "code",
      "metadata": {
        "id": "aJdHUt8k_yoY",
        "outputId": "1da5c69a-1e32-4354-9a0e-db590fda1670",
        "colab": {
          "base_uri": "https://localhost:8080/",
          "height": 33
        }
      },
      "source": [
        "from google.colab import drive\n",
        "drive.mount(\"/content/drive\")"
      ],
      "execution_count": 3,
      "outputs": [
        {
          "output_type": "stream",
          "text": [
            "Mounted at /content/drive\n"
          ],
          "name": "stdout"
        }
      ]
    },
    {
      "cell_type": "code",
      "metadata": {
        "id": "Xv5nW8fwO-2I",
        "outputId": "69f288b8-b822-4afd-f840-eaf269313ba9",
        "colab": {
          "base_uri": "https://localhost:8080/",
          "height": 33
        }
      },
      "source": [
        "!ls \"/content/drive/My Drive/DeepLearning-AyyuceHoca/results\""
      ],
      "execution_count": 40,
      "outputs": [
        {
          "output_type": "stream",
          "text": [
            "model.h5  __results___files  test.hdf5\ttrain.hdf5  val.hdf5\n"
          ],
          "name": "stdout"
        }
      ]
    },
    {
      "cell_type": "code",
      "metadata": {
        "id": "-PzEtvSptJ9f"
      },
      "source": [
        "# Reading the file\n",
        "\n",
        "file_name = \"/content/drive/My Drive/DeepLearning-AyyuceHoca/results/train.hdf5\"\n",
        "import h5py\n",
        "\n",
        "f = h5py.File(file_name, \"r\")\n",
        "\n"
      ],
      "execution_count": 46,
      "outputs": []
    },
    {
      "cell_type": "code",
      "metadata": {
        "id": "hVOERaK2_zLB"
      },
      "source": [
        "# Importing necessary librarries\n",
        "\n",
        "\n",
        "import tensorflow as tf\n",
        "\n",
        "import keras\n",
        "from keras.models import Sequential\n",
        "from keras.layers import Conv2D, MaxPooling2D, AveragePooling2D,BatchNormalization\n",
        "from keras.layers import Dense, Activation, Dropout, Flatten\n",
        "\n",
        "from keras.preprocessing import image\n",
        "from keras.preprocessing.image import ImageDataGenerator\n",
        "\n",
        "import numpy as np\n",
        "import matplotlib.pyplot as plt\n"
      ],
      "execution_count": 4,
      "outputs": []
    },
    {
      "cell_type": "code",
      "metadata": {
        "id": "zr5k6xTz_zI5"
      },
      "source": [
        "# And we have 7 classes\n",
        "# set epochs and batch size\n",
        "\n",
        "num_classes = 7 #angry, disgust, fear, happy, sad, surprise, neutral\n",
        "batch_size = 256\n",
        "epochs = 25"
      ],
      "execution_count": 5,
      "outputs": []
    },
    {
      "cell_type": "code",
      "metadata": {
        "id": "YtrqjVzN_zG7"
      },
      "source": [
        "with open(\"/content/drive/My Drive/DeepLearning-AyyuceHoca/fer2013.csv\") as f:\n",
        "  content = f.readlines()\n",
        "\n",
        "lines = np.array(content)"
      ],
      "execution_count": 71,
      "outputs": []
    },
    {
      "cell_type": "code",
      "metadata": {
        "id": "EMmE23q0_zEw",
        "outputId": "c6fcebe5-5e17-4fd6-a314-5af2b3c46a4c",
        "colab": {
          "base_uri": "https://localhost:8080/",
          "height": 50
        }
      },
      "source": [
        "num_of_instances = lines.size\n",
        "print(\"number of instances: \",num_of_instances)\n",
        "print(\"instance length: \",len(lines[1].split(\",\")[1].split(\" \")))"
      ],
      "execution_count": 72,
      "outputs": [
        {
          "output_type": "stream",
          "text": [
            "number of instances:  35888\n",
            "instance length:  2304\n"
          ],
          "name": "stdout"
        }
      ]
    },
    {
      "cell_type": "code",
      "metadata": {
        "id": "LdC1ZHr9HRoU",
        "outputId": "30b45cfe-4a76-4ef7-d5de-b5dbc00804b4",
        "colab": {
          "base_uri": "https://localhost:8080/",
          "height": 86
        }
      },
      "source": [
        "lines[2].split(\",\")"
      ],
      "execution_count": null,
      "outputs": [
        {
          "output_type": "execute_result",
          "data": {
            "text/plain": [
              "['0',\n",
              " '151 150 147 155 148 133 111 140 170 174 182 154 153 164 173 178 185 185 189 187 186 193 194 185 183 186 180 173 166 161 147 133 172 151 114 161 161 146 131 104 95 132 163 123 119 129 140 120 151 149 149 153 137 115 129 166 170 181 164 143 157 156 169 179 185 183 186 186 184 190 191 184 186 190 183 175 168 160 147 136 135 167 136 108 153 167 149 137 111 90 134 162 121 122 141 137 151 151 156 143 116 124 159 164 174 169 135 144 155 153 164 170 176 178 177 178 187 185 181 182 183 181 178 170 164 158 148 144 130 136 173 130 97 137 167 157 138 113 90 138 168 109 123 146 151 152 155 127 113 159 167 170 171 142 131 140 154 162 168 169 169 164 168 173 176 179 178 176 173 172 170 161 154 152 146 145 137 124 130 171 124 102 133 164 152 138 110 86 154 149 100 139 153 151 136 113 142 159 161 174 150 127 136 140 154 164 163 167 173 172 171 170 167 168 172 167 162 161 160 163 163 154 145 146 140 133 122 135 167 127 101 126 164 147 132 95 91 166 115 113 158 143 121 134 153 153 164 162 131 130 136 146 155 158 155 157 163 163 158 159 159 161 165 156 153 156 159 163 163 150 149 150 146 140 137 122 147 154 116 97 133 164 142 123 77 117 147 95 149 127 129 153 142 165 171 136 116 129 130 139 140 149 153 147 146 150 150 155 151 155 156 153 152 157 165 165 160 150 156 156 148 141 135 135 132 147 141 110 97 143 165 142 101 66 151 117 136 125 148 139 153 173 159 118 116 119 123 131 134 145 145 137 142 151 157 159 153 154 153 150 159 170 171 167 160 160 159 158 152 141 145 144 140 119 144 133 106 101 151 148 130 70 119 148 129 143 146 134 165 165 134 121 123 121 125 129 136 150 159 163 165 161 157 155 147 150 148 135 156 171 169 171 166 165 165 158 153 146 147 150 137 122 112 144 122 94 111 158 143 91 74 155 134 147 131 154 167 153 107 125 129 134 137 134 136 154 168 174 171 168 163 156 151 150 146 146 166 171 173 176 177 191 187 175 180 179 174 165 142 134 108 111 137 108 86 143 156 116 64 133 143 129 138 162 167 132 117 127 128 140 147 145 155 159 165 170 172 166 160 154 156 160 156 156 158 153 170 188 198 208 203 209 219 217 200 174 171 147 128 92 129 131 88 103 159 135 75 111 133 126 160 156 159 117 132 129 131 144 160 165 162 166 170 165 160 160 159 153 149 150 151 148 120 132 189 183 180 177 187 201 194 186 181 170 167 146 118 117 100 139 112 74 139 145 85 91 120 151 156 164 129 111 135 140 139 142 158 163 172 190 195 189 168 156 149 143 137 140 140 132 114 142 150 129 133 125 138 140 132 114 124 131 118 143 125 126 82 97 141 72 113 152 93 77 134 157 149 166 95 124 136 142 156 165 179 189 198 198 186 186 188 157 126 124 118 129 128 115 95 100 90 84 81 66 72 80 77 63 59 65 70 67 86 105 82 95 138 89 94 153 106 74 153 148 165 134 80 134 137 149 173 187 193 201 185 169 141 128 150 139 113 119 123 128 114 91 71 60 51 69 78 80 80 79 76 76 65 65 85 103 46 73 142 85 114 114 75 145 121 70 150 141 168 76 91 130 144 179 197 210 190 164 146 128 121 90 92 90 90 114 104 109 110 81 52 53 87 96 94 99 96 88 95 108 116 110 97 120 98 64 120 77 105 130 67 131 128 67 137 150 136 46 106 126 164 164 151 150 131 115 103 88 90 91 92 78 56 49 65 90 115 66 29 91 99 104 107 88 94 105 111 118 113 116 103 103 120 47 83 110 120 134 67 116 136 74 133 163 82 51 113 115 104 112 144 162 138 104 96 93 95 90 91 99 103 55 29 46 45 16 40 104 95 101 92 93 96 80 69 82 99 98 108 116 128 70 102 117 127 140 79 105 139 82 140 149 23 43 103 50 78 179 185 147 111 113 117 106 91 95 100 91 96 92 19 6 19 8 35 88 64 66 60 72 68 34 35 70 85 101 118 130 143 82 114 125 130 149 93 104 139 83 148 130 67 86 94 42 142 173 151 128 124 106 96 103 90 89 100 97 95 103 28 48 127 126 38 87 81 68 64 70 74 51 68 92 112 139 149 152 158 100 134 128 133 159 105 95 139 86 153 113 62 126 130 62 135 136 127 122 93 67 54 44 42 43 60 76 86 104 41 115 197 211 112 67 118 109 107 93 84 83 101 108 129 150 158 156 143 105 140 129 131 166 115 85 137 87 156 99 21 89 104 46 117 135 113 78 52 89 94 46 24 45 54 65 95 92 49 161 213 212 188 85 97 133 130 124 121 122 136 147 143 154 151 173 124 115 147 129 124 164 136 95 126 85 159 94 36 97 117 78 93 130 90 73 77 94 86 61 60 72 69 91 113 80 76 188 214 213 200 143 66 119 138 150 151 151 159 163 156 154 162 140 107 136 148 135 115 158 150 116 111 87 161 101 50 109 111 98 69 99 97 109 111 114 106 95 96 99 101 109 122 70 111 193 214 217 200 183 115 78 124 157 167 170 172 166 161 147 127 118 134 138 141 141 119 147 155 131 98 96 163 103 72 120 112 115 80 100 117 100 105 127 138 133 132 140 137 121 103 64 153 200 215 218 205 183 169 127 77 92 111 122 126 128 128 129 135 145 141 138 133 138 127 139 169 127 83 93 161 106 87 122 106 117 114 88 124 116 108 135 150 151 156 163 162 121 66 110 177 201 212 214 200 181 162 155 117 97 103 109 115 119 131 141 147 149 141 146 140 128 130 140 170 101 87 89 163 109 105 123 103 112 133 113 95 132 139 160 167 169 158 149 118 72 89 133 169 189 197 204 194 180 172 166 138 114 112 114 120 119 125 134 140 150 145 142 145 142 144 152 164 116 95 84 159 113 111 124 101 112 136 134 115 107 118 131 138 129 108 93 75 88 112 136 170 183 181 178 181 177 177 180 175 130 110 119 125 130 131 135 138 142 146 136 130 146 142 157 169 135 91 100 150 115 114 138 107 114 133 125 124 133 137 128 119 106 102 98 93 96 141 160 147 149 150 145 153 161 147 146 175 162 114 112 121 127 128 131 129 134 142 136 124 139 141 157 175 138 106 149 145 119 119 150 109 115 136 129 126 131 137 130 114 106 108 109 99 115 156 138 116 134 139 130 140 119 53 45 103 139 131 101 98 117 126 130 123 124 133 137 131 130 143 160 177 148 158 182 146 122 117 161 118 116 131 134 130 130 124 121 118 117 119 112 92 107 134 74 29 73 122 129 126 78 33 42 65 107 123 103 97 96 113 121 119 121 124 131 130 128 157 176 179 185 187 181 158 124 111 169 131 116 123 129 130 129 129 128 125 124 114 86 89 104 91 46 31 35 74 113 107 93 79 79 94 121 131 126 119 92 100 114 114 117 115 120 125 130 164 179 188 192 182 184 182 140 106 170 147 120 121 129 130 127 128 129 128 123 98 62 98 116 113 94 90 85 81 80 104 116 126 141 136 148 148 129 122 101 95 107 107 117 123 125 130 139 165 179 184 192 184 183 191 167 119 173 158 136 118 130 131 125 123 123 125 114 81 71 131 147 148 138 133 117 101 88 118 131 143 163 167 165 164 146 132 122 107 95 104 115 126 136 137 146 168 180 179 195 187 183 188 186 141 158 165 147 116 131 130 124 118 117 119 102 70 101 140 154 153 142 134 125 118 117 118 116 120 137 149 163 172 158 144 137 138 117 112 123 129 139 146 157 167 175 178 196 190 184 190 188 167 155 174 161 134 119 114 121 118 113 109 89 93 134 140 161 170 145 126 108 121 117 108 117 136 146 142 138 150 149 147 135 142 122 115 142 149 144 144 162 168 171 176 192 187 182 192 183 185 175 174 145 87 65 63 84 112 114 98 92 109 140 155 151 147 123 103 111 112 116 108 111 127 130 117 115 124 129 138 124 118 120 114 135 144 141 144 154 168 170 174 187 182 179 187 184 184 187 132 28 6 24 36 39 69 111 99 84 109 134 133 108 97 84 75 78 74 81 80 62 48 32 27 36 42 56 88 87 86 123 130 138 138 134 141 151 170 167 173 189 184 181 187 186 191 192 63 26 18 3 16 22 23 85 106 98 110 112 89 47 35 41 20 18 21 13 9 7 3 2 4 4 3 4 30 40 49 112 129 142 143 139 144 151 171 174 177 188 186 181 189 189 170 124 47 33 28 8 4 12 11 48 111 113 100 85 50 19 4 5 3 10 14 12 15 26 31 35 38 37 40 62 84 73 61 124 143 138 130 140 139 152 157 170 179 186 186 181 179 115 39 26 14 6 10 3 1 5 2 48 124 117 106 71 34 42 32 17 17 24 35 41 49 63 67 70 72 88 106 118 107 97 75 95 139 138 125 130 131 150 160 173 183 188 186 184 114 54 84 157 71 0 6 5 4 3 0 75 122 109 103 69 53 67 68 59 55 54 59 65 74 88 97 104 109 119 129 128 127 130 98 96 136 156 130 117 128 148 165 176 190 191 186 183 74 64 167 201 164 43 1 0 0 3 46 114 118 110 110 67 66 97 83 86 87 98 93 98 102 112 119 119 125 126 130 128 127 135 134 112 123 150 136 118 126 146 158 179 196 188 185 185 142 50 136 182 194 173 83 58 60 100 130 121 113 120 116 80 77 95 103 111 116 124 116 120 117 119 108 123 129 144 160 143 129 130 127 132 123 149 132 117 125 142 151 188 194 187 184 185 197 128 84 169 177 199 178 162 147 154 146 124 107 129 120 96 88 99 131 131 145 131 137 148 131 133 128 124 118 142 167 159 130 136 134 127 128 143 133 118 139 140 144 192 196 187 184 184 188 188 121 86 175 189 192 157 148 144 149 126 113 123 127 106 96 107 145 143 144 131 147 150 143 147 134 126 131 151 170 162 148 116 139 122 124 141 127 112 128 116 113 159 201 185 185 186 188 187 196 129 85 171 194 171 142 144 144 128 119 116 121 116 100 108 136 146 128 135 151 146 152 150 158 143 133 143 159 153 152 128 137 133 125 127 102 108 109 105 102 106 197 186 182 187 186 184 185 197 124 84 174 185 150 129 143 135 115 102 111 124 112 109 132 146 135 149 148 143 163 156 159 150 139 128 116 125 133 109 130 147 130 121 105 108 95 108 102 67 171 193 183 184',\n",
              " 'Training\\n']"
            ]
          },
          "metadata": {
            "tags": []
          },
          "execution_count": 6
        }
      ]
    },
    {
      "cell_type": "code",
      "metadata": {
        "id": "WR5XH_djHFxi"
      },
      "source": [
        "#initialize trainset and test set\n",
        "x_train, y_train, x_test, y_test = [], [], [], []\n",
        "\n",
        "#------------------------------\n",
        "#transfer train and test set data\n",
        "for i in range(1,num_of_instances):\n",
        "    try:\n",
        "        emotion, img, usage = lines[i].split(\",\")\n",
        "          \n",
        "        val = img.split(\" \")\n",
        "            \n",
        "        pixels = np.array(val, 'float32')\n",
        "        \n",
        "        emotion = keras.utils.to_categorical(emotion, num_classes)\n",
        "    \n",
        "        if 'Training' in usage:\n",
        "            y_train.append(emotion)\n",
        "            x_train.append(pixels)\n",
        "        elif 'PublicTest' in usage:\n",
        "            y_test.append(emotion)\n",
        "            x_test.append(pixels)\n",
        "     \n",
        "    except:\n",
        "      print(\"\", end=\"\")"
      ],
      "execution_count": 73,
      "outputs": []
    },
    {
      "cell_type": "code",
      "metadata": {
        "id": "1ruJqX6sHF2C"
      },
      "source": [
        "#------------------------------\n",
        "#data transformation for train and test sets\n",
        "x_train = np.array(x_train, 'float32')\n",
        "y_train = np.array(y_train, 'float32')\n",
        "x_test = np.array(x_test, 'float32')\n",
        "y_test = np.array(y_test, 'float32')\n"
      ],
      "execution_count": 77,
      "outputs": []
    },
    {
      "cell_type": "code",
      "metadata": {
        "id": "eXlrsNPZHF0j",
        "outputId": "b8c12c58-ead5-4807-9fd1-9d7c22be035b",
        "colab": {
          "base_uri": "https://localhost:8080/",
          "height": 50
        }
      },
      "source": [
        "x_train /= 255 #normalize inputs between [0, 1]\n",
        "x_test /= 255\n",
        "\n",
        "x_train = x_train.reshape(x_train.shape[0], 48, 48, 1)\n",
        "x_train = x_train.astype('float32')\n",
        "x_test = x_test.reshape(x_test.shape[0], 48, 48, 1)\n",
        "x_test = x_test.astype('float32')\n",
        "\n",
        "print(x_train.shape[0], 'train samples')\n",
        "print(x_test.shape[0], 'test samples')\n"
      ],
      "execution_count": 79,
      "outputs": [
        {
          "output_type": "stream",
          "text": [
            "25264 train samples\n",
            "3589 test samples\n"
          ],
          "name": "stdout"
        }
      ]
    },
    {
      "cell_type": "code",
      "metadata": {
        "id": "OIS6SHLxH414"
      },
      "source": [
        "#construct CNN structure\n",
        "model = Sequential()\n",
        "\n",
        "#1st convolution layer\n",
        "model.add(Conv2D(64, (3, 3), activation='relu', input_shape=(48,48,1)))\n",
        "model.add(Conv2D(64, (3, 3), activation='relu', input_shape=(48,48,1),padding=\"same\"))\n",
        "model.add(BatchNormalization())\n",
        "model.add(MaxPooling2D(pool_size=(5,5), strides=(2, 2),padding=\"same\"))\n",
        "model.add(Dropout(0.2))\n",
        "\n",
        "#2nd convolution layer\n",
        "model.add(Conv2D(128, (3, 3), activation='relu',padding=\"same\"))\n",
        "model.add(BatchNormalization())\n",
        "model.add(Conv2D(128, (3, 3), activation='relu',padding=\"same\"))\n",
        "model.add(BatchNormalization())\n",
        "model.add(MaxPooling2D(pool_size=(3,3), strides=(2, 2)))\n",
        "model.add(Dropout(0.2))\n",
        "\n",
        "model.add(Conv2D(256, (3, 3), activation='relu',padding=\"same\"))\n",
        "model.add(BatchNormalization())\n",
        "model.add(Conv2D(256, (3, 3), activation='relu',padding=\"same\"))\n",
        "model.add(BatchNormalization())\n",
        "model.add(MaxPooling2D(pool_size=(3,3), strides=(2, 2),))\n",
        "model.add(Dropout(0.2))\n",
        "\n",
        "model.add(Conv2D(512, (3, 3), activation='relu',padding=\"same\"))\n",
        "model.add(BatchNormalization())\n",
        "model.add(Conv2D(512, (3, 3), activation='relu',padding=\"same\"))\n",
        "model.add(BatchNormalization())\n",
        "model.add(MaxPooling2D(pool_size=(3,3), strides=(2, 2),))\n",
        "model.add(Dropout(0.2))\n",
        "\n",
        "\n",
        "model.add(Flatten())\n",
        "\n",
        "\n",
        "model.add(Dense(512, activation='relu'))\n",
        "model.add(Dropout(0.2))\n",
        "model.add(Dense(256, activation='relu'))\n",
        "model.add(Dropout(0.2))\n",
        "model.add(Dense(128, activation='relu'))\n",
        "model.add(Dropout(0.2))\n",
        "\n",
        "\n",
        "model.add(Dense(num_classes, activation='softmax'))\n",
        "\n",
        "#------------------------------\n",
        "#batch process\n",
        "gen = ImageDataGenerator()\n",
        "train_generator = gen.flow(x_train, y_train, batch_size=batch_size)\n",
        "\n",
        "\n",
        "#------------------------------\n",
        "model.compile(loss='categorical_crossentropy'\n",
        "    , optimizer=keras.optimizers.Adam()\n",
        "    , metrics=['accuracy'])\n",
        "\n"
      ],
      "execution_count": null,
      "outputs": []
    },
    {
      "cell_type": "code",
      "metadata": {
        "id": "_CxOBhQHMTiW",
        "outputId": "738e74c7-c6d0-46b2-f4d7-7c12f10e110c",
        "colab": {
          "base_uri": "https://localhost:8080/",
          "height": 1000
        }
      },
      "source": [
        "model.summary()"
      ],
      "execution_count": null,
      "outputs": [
        {
          "output_type": "stream",
          "text": [
            "Model: \"sequential_74\"\n",
            "_________________________________________________________________\n",
            "Layer (type)                 Output Shape              Param #   \n",
            "=================================================================\n",
            "conv2d_399 (Conv2D)          (None, 46, 46, 64)        640       \n",
            "_________________________________________________________________\n",
            "conv2d_400 (Conv2D)          (None, 46, 46, 64)        36928     \n",
            "_________________________________________________________________\n",
            "batch_normalization_242 (Bat (None, 46, 46, 64)        256       \n",
            "_________________________________________________________________\n",
            "max_pooling2d_159 (MaxPoolin (None, 23, 23, 64)        0         \n",
            "_________________________________________________________________\n",
            "dropout_209 (Dropout)        (None, 23, 23, 64)        0         \n",
            "_________________________________________________________________\n",
            "conv2d_401 (Conv2D)          (None, 23, 23, 128)       73856     \n",
            "_________________________________________________________________\n",
            "batch_normalization_243 (Bat (None, 23, 23, 128)       512       \n",
            "_________________________________________________________________\n",
            "conv2d_402 (Conv2D)          (None, 23, 23, 128)       147584    \n",
            "_________________________________________________________________\n",
            "batch_normalization_244 (Bat (None, 23, 23, 128)       512       \n",
            "_________________________________________________________________\n",
            "max_pooling2d_160 (MaxPoolin (None, 11, 11, 128)       0         \n",
            "_________________________________________________________________\n",
            "dropout_210 (Dropout)        (None, 11, 11, 128)       0         \n",
            "_________________________________________________________________\n",
            "conv2d_403 (Conv2D)          (None, 11, 11, 256)       295168    \n",
            "_________________________________________________________________\n",
            "batch_normalization_245 (Bat (None, 11, 11, 256)       1024      \n",
            "_________________________________________________________________\n",
            "conv2d_404 (Conv2D)          (None, 11, 11, 256)       590080    \n",
            "_________________________________________________________________\n",
            "batch_normalization_246 (Bat (None, 11, 11, 256)       1024      \n",
            "_________________________________________________________________\n",
            "max_pooling2d_161 (MaxPoolin (None, 5, 5, 256)         0         \n",
            "_________________________________________________________________\n",
            "dropout_211 (Dropout)        (None, 5, 5, 256)         0         \n",
            "_________________________________________________________________\n",
            "conv2d_405 (Conv2D)          (None, 5, 5, 512)         1180160   \n",
            "_________________________________________________________________\n",
            "batch_normalization_247 (Bat (None, 5, 5, 512)         2048      \n",
            "_________________________________________________________________\n",
            "conv2d_406 (Conv2D)          (None, 5, 5, 512)         2359808   \n",
            "_________________________________________________________________\n",
            "batch_normalization_248 (Bat (None, 5, 5, 512)         2048      \n",
            "_________________________________________________________________\n",
            "max_pooling2d_162 (MaxPoolin (None, 2, 2, 512)         0         \n",
            "_________________________________________________________________\n",
            "dropout_212 (Dropout)        (None, 2, 2, 512)         0         \n",
            "_________________________________________________________________\n",
            "flatten_33 (Flatten)         (None, 2048)              0         \n",
            "_________________________________________________________________\n",
            "dense_105 (Dense)            (None, 512)               1049088   \n",
            "_________________________________________________________________\n",
            "dropout_213 (Dropout)        (None, 512)               0         \n",
            "_________________________________________________________________\n",
            "dense_106 (Dense)            (None, 256)               131328    \n",
            "_________________________________________________________________\n",
            "dropout_214 (Dropout)        (None, 256)               0         \n",
            "_________________________________________________________________\n",
            "dense_107 (Dense)            (None, 128)               32896     \n",
            "_________________________________________________________________\n",
            "dropout_215 (Dropout)        (None, 128)               0         \n",
            "_________________________________________________________________\n",
            "dense_108 (Dense)            (None, 7)                 903       \n",
            "=================================================================\n",
            "Total params: 5,905,863\n",
            "Trainable params: 5,902,151\n",
            "Non-trainable params: 3,712\n",
            "_________________________________________________________________\n"
          ],
          "name": "stdout"
        }
      ]
    },
    {
      "cell_type": "code",
      "metadata": {
        "id": "yL3lD_AjH5BG",
        "outputId": "ae3c2e4f-9b33-4bd9-d028-e28a20fd4797",
        "colab": {
          "base_uri": "https://localhost:8080/",
          "height": 866
        }
      },
      "source": [
        "fit = True\n",
        "\n",
        "if fit == True:\n",
        "\t#model.fit_generator(x_train, y_train, epochs=epochs) #train for all trainset\n",
        "\tmodel.fit_generator(train_generator, steps_per_epoch=113, epochs=epochs) #train for randomly selected one\n",
        "else:\n",
        "\tmodel.load_weights('/data/facial_expression_model_weights.h5') #load weights\n"
      ],
      "execution_count": null,
      "outputs": [
        {
          "output_type": "stream",
          "text": [
            "Epoch 1/25\n",
            "  2/113 [..............................] - ETA: 30s - loss: 4.5120 - accuracy: 0.1641WARNING:tensorflow:Callbacks method `on_train_batch_end` is slow compared to the batch time (batch time: 0.1171s vs `on_train_batch_end` time: 0.2026s). Check your callbacks.\n",
            "113/113 [==============================] - 32s 287ms/step - loss: 1.9739 - accuracy: 0.2231\n",
            "Epoch 2/25\n",
            "113/113 [==============================] - 33s 288ms/step - loss: 1.7523 - accuracy: 0.2806\n",
            "Epoch 3/25\n",
            "113/113 [==============================] - 33s 289ms/step - loss: 1.5580 - accuracy: 0.3826\n",
            "Epoch 4/25\n",
            "113/113 [==============================] - 33s 288ms/step - loss: 1.4187 - accuracy: 0.4478\n",
            "Epoch 5/25\n",
            "113/113 [==============================] - 33s 288ms/step - loss: 1.3119 - accuracy: 0.4979\n",
            "Epoch 6/25\n",
            "113/113 [==============================] - 33s 288ms/step - loss: 1.2385 - accuracy: 0.5297\n",
            "Epoch 7/25\n",
            "113/113 [==============================] - 33s 289ms/step - loss: 1.1812 - accuracy: 0.5525\n",
            "Epoch 8/25\n",
            "113/113 [==============================] - 33s 289ms/step - loss: 1.1275 - accuracy: 0.5768\n",
            "Epoch 9/25\n",
            "113/113 [==============================] - 33s 288ms/step - loss: 1.0805 - accuracy: 0.5967\n",
            "Epoch 10/25\n",
            "113/113 [==============================] - 33s 288ms/step - loss: 1.0344 - accuracy: 0.6164\n",
            "Epoch 11/25\n",
            "113/113 [==============================] - 33s 289ms/step - loss: 0.9901 - accuracy: 0.6316\n",
            "Epoch 12/25\n",
            "113/113 [==============================] - 33s 288ms/step - loss: 0.9591 - accuracy: 0.6471\n",
            "Epoch 13/25\n",
            "113/113 [==============================] - 33s 288ms/step - loss: 0.9071 - accuracy: 0.6625\n",
            "Epoch 14/25\n",
            "113/113 [==============================] - 33s 288ms/step - loss: 0.8637 - accuracy: 0.6839\n",
            "Epoch 15/25\n",
            "113/113 [==============================] - 33s 288ms/step - loss: 0.8205 - accuracy: 0.6993\n",
            "Epoch 16/25\n",
            "113/113 [==============================] - 33s 288ms/step - loss: 0.7952 - accuracy: 0.7107\n",
            "Epoch 17/25\n",
            "113/113 [==============================] - 33s 288ms/step - loss: 0.7220 - accuracy: 0.7387\n",
            "Epoch 18/25\n",
            "113/113 [==============================] - 33s 288ms/step - loss: 0.6972 - accuracy: 0.7446\n",
            "Epoch 19/25\n",
            "113/113 [==============================] - 33s 288ms/step - loss: 0.6373 - accuracy: 0.7695\n",
            "Epoch 20/25\n",
            "113/113 [==============================] - 33s 288ms/step - loss: 0.5834 - accuracy: 0.7919\n",
            "Epoch 21/25\n",
            "113/113 [==============================] - 32s 287ms/step - loss: 0.5702 - accuracy: 0.7954\n",
            "Epoch 22/25\n",
            "113/113 [==============================] - 33s 288ms/step - loss: 0.5459 - accuracy: 0.8050\n",
            "Epoch 23/25\n",
            "113/113 [==============================] - 33s 288ms/step - loss: 0.4670 - accuracy: 0.8340\n",
            "Epoch 24/25\n",
            "113/113 [==============================] - 33s 288ms/step - loss: 0.4146 - accuracy: 0.8543\n",
            "Epoch 25/25\n",
            "113/113 [==============================] - 33s 288ms/step - loss: 0.3764 - accuracy: 0.8686\n"
          ],
          "name": "stdout"
        }
      ]
    },
    {
      "cell_type": "code",
      "metadata": {
        "id": "yklQ_6TsW3SP",
        "outputId": "cffedcee-1da0-4895-a08d-f33127bf8335",
        "colab": {
          "base_uri": "https://localhost:8080/",
          "height": 1000
        }
      },
      "source": [
        "root = \"/content/drive/My Drive\"\n",
        "checkpointter = tf.keras.callbacks.ModelCheckpoint(filepath=root+\"/facial_expression_model_weights.h5\",verbose=1,save_best_only=True)\n",
        " \n",
        "hist = model.fit(x_train,y_train,\n",
        "                 epochs=epochs,\n",
        "                 shuffle=True,\n",
        "                 batch_size=batch_size,\n",
        "                 validation_data=(x_test,y_test),\n",
        "                 callbacks=[checkpointter],\n",
        "                 verbose=2)"
      ],
      "execution_count": null,
      "outputs": [
        {
          "output_type": "stream",
          "text": [
            "Epoch 1/25\n",
            "WARNING:tensorflow:Callbacks method `on_train_batch_end` is slow compared to the batch time (batch time: 0.0989s vs `on_train_batch_end` time: 0.1854s). Check your callbacks.\n",
            "\n",
            "Epoch 00001: val_loss improved from inf to 1.72161, saving model to /content/drive/My Drive/facial_expression_model_weights.h5\n",
            "113/113 - 34s - loss: 0.3508 - accuracy: 0.8773 - val_loss: 1.7216 - val_accuracy: 0.5985\n",
            "Epoch 2/25\n",
            "\n",
            "Epoch 00002: val_loss improved from 1.72161 to 1.68847, saving model to /content/drive/My Drive/facial_expression_model_weights.h5\n",
            "113/113 - 34s - loss: 0.3237 - accuracy: 0.8901 - val_loss: 1.6885 - val_accuracy: 0.6347\n",
            "Epoch 3/25\n",
            "\n",
            "Epoch 00003: val_loss improved from 1.68847 to 1.49796, saving model to /content/drive/My Drive/facial_expression_model_weights.h5\n",
            "113/113 - 34s - loss: 0.2962 - accuracy: 0.8970 - val_loss: 1.4980 - val_accuracy: 0.6194\n",
            "Epoch 4/25\n",
            "\n",
            "Epoch 00004: val_loss did not improve from 1.49796\n",
            "113/113 - 33s - loss: 0.2696 - accuracy: 0.9093 - val_loss: 1.6551 - val_accuracy: 0.6339\n",
            "Epoch 5/25\n",
            "\n",
            "Epoch 00005: val_loss did not improve from 1.49796\n",
            "113/113 - 33s - loss: 0.2441 - accuracy: 0.9165 - val_loss: 1.8487 - val_accuracy: 0.6233\n",
            "Epoch 6/25\n",
            "\n",
            "Epoch 00006: val_loss did not improve from 1.49796\n",
            "113/113 - 33s - loss: 0.2150 - accuracy: 0.9245 - val_loss: 1.7200 - val_accuracy: 0.6369\n",
            "Epoch 7/25\n",
            "\n",
            "Epoch 00007: val_loss did not improve from 1.49796\n",
            "113/113 - 33s - loss: 0.2013 - accuracy: 0.9319 - val_loss: 1.7210 - val_accuracy: 0.6411\n",
            "Epoch 8/25\n",
            "\n",
            "Epoch 00008: val_loss did not improve from 1.49796\n",
            "113/113 - 33s - loss: 0.2038 - accuracy: 0.9303 - val_loss: 1.9205 - val_accuracy: 0.6286\n",
            "Epoch 9/25\n",
            "\n",
            "Epoch 00009: val_loss did not improve from 1.49796\n",
            "113/113 - 33s - loss: 0.1882 - accuracy: 0.9375 - val_loss: 1.8422 - val_accuracy: 0.6350\n",
            "Epoch 10/25\n",
            "\n",
            "Epoch 00010: val_loss did not improve from 1.49796\n",
            "113/113 - 33s - loss: 0.1675 - accuracy: 0.9447 - val_loss: 1.8123 - val_accuracy: 0.6386\n",
            "Epoch 11/25\n",
            "\n",
            "Epoch 00011: val_loss did not improve from 1.49796\n",
            "113/113 - 33s - loss: 0.1733 - accuracy: 0.9413 - val_loss: 1.8972 - val_accuracy: 0.6456\n",
            "Epoch 12/25\n",
            "\n",
            "Epoch 00012: val_loss did not improve from 1.49796\n",
            "113/113 - 33s - loss: 0.1539 - accuracy: 0.9508 - val_loss: 1.8426 - val_accuracy: 0.6422\n",
            "Epoch 13/25\n",
            "\n",
            "Epoch 00013: val_loss did not improve from 1.49796\n",
            "113/113 - 33s - loss: 0.1297 - accuracy: 0.9562 - val_loss: 2.0785 - val_accuracy: 0.6389\n",
            "Epoch 14/25\n",
            "\n",
            "Epoch 00014: val_loss did not improve from 1.49796\n",
            "113/113 - 33s - loss: 0.1383 - accuracy: 0.9543 - val_loss: 1.8973 - val_accuracy: 0.6439\n",
            "Epoch 15/25\n",
            "\n",
            "Epoch 00015: val_loss did not improve from 1.49796\n",
            "113/113 - 33s - loss: 0.1248 - accuracy: 0.9589 - val_loss: 2.0226 - val_accuracy: 0.6473\n",
            "Epoch 16/25\n",
            "\n",
            "Epoch 00016: val_loss did not improve from 1.49796\n",
            "113/113 - 33s - loss: 0.1272 - accuracy: 0.9567 - val_loss: 2.1058 - val_accuracy: 0.6470\n",
            "Epoch 17/25\n",
            "\n",
            "Epoch 00017: val_loss did not improve from 1.49796\n",
            "113/113 - 33s - loss: 0.1117 - accuracy: 0.9623 - val_loss: 1.9631 - val_accuracy: 0.6225\n",
            "Epoch 18/25\n",
            "\n",
            "Epoch 00018: val_loss did not improve from 1.49796\n",
            "113/113 - 33s - loss: 0.1287 - accuracy: 0.9578 - val_loss: 2.0310 - val_accuracy: 0.6205\n",
            "Epoch 19/25\n",
            "\n",
            "Epoch 00019: val_loss did not improve from 1.49796\n",
            "113/113 - 33s - loss: 0.1080 - accuracy: 0.9647 - val_loss: 1.9746 - val_accuracy: 0.6456\n",
            "Epoch 20/25\n",
            "\n",
            "Epoch 00020: val_loss did not improve from 1.49796\n",
            "113/113 - 33s - loss: 0.1081 - accuracy: 0.9642 - val_loss: 2.0901 - val_accuracy: 0.6367\n",
            "Epoch 21/25\n",
            "\n",
            "Epoch 00021: val_loss did not improve from 1.49796\n",
            "113/113 - 33s - loss: 0.0984 - accuracy: 0.9690 - val_loss: 2.1645 - val_accuracy: 0.6425\n",
            "Epoch 22/25\n",
            "\n",
            "Epoch 00022: val_loss did not improve from 1.49796\n",
            "113/113 - 33s - loss: 0.0927 - accuracy: 0.9705 - val_loss: 2.0246 - val_accuracy: 0.6358\n",
            "Epoch 23/25\n",
            "\n",
            "Epoch 00023: val_loss did not improve from 1.49796\n",
            "113/113 - 33s - loss: 0.0944 - accuracy: 0.9685 - val_loss: 2.2152 - val_accuracy: 0.6314\n",
            "Epoch 24/25\n",
            "\n",
            "Epoch 00024: val_loss did not improve from 1.49796\n",
            "113/113 - 33s - loss: 0.1182 - accuracy: 0.9603 - val_loss: 2.0923 - val_accuracy: 0.6520\n",
            "Epoch 25/25\n",
            "\n",
            "Epoch 00025: val_loss did not improve from 1.49796\n",
            "113/113 - 33s - loss: 0.1019 - accuracy: 0.9675 - val_loss: 2.0695 - val_accuracy: 0.6372\n"
          ],
          "name": "stdout"
        }
      ]
    },
    {
      "cell_type": "code",
      "metadata": {
        "id": "xfvdagx1H44q",
        "outputId": "7045b802-2ae0-42ed-a27d-f06176f7b6e8",
        "colab": {
          "base_uri": "https://localhost:8080/",
          "height": 82
        }
      },
      "source": [
        "#Evaluation 1 \n",
        "# with imagegenerator\n",
        "\n",
        "train_score = model.evaluate(x_train, y_train, verbose=0)\n",
        "print('Train loss:', train_score[0])\n",
        "print('Train accuracy:', 100*train_score[1])\n",
        " \n",
        "test_score = model.evaluate(x_test, y_test, verbose=0)\n",
        "print('Test loss:', test_score[0])\n",
        "print('Test accuracy:', 100*test_score[1])"
      ],
      "execution_count": null,
      "outputs": [
        {
          "output_type": "stream",
          "text": [
            "Train loss: 0.3725247085094452\n",
            "Train accuracy: 87.49520778656006\n",
            "Test loss: 1.4328298568725586\n",
            "Test accuracy: 62.301474809646606\n"
          ],
          "name": "stdout"
        }
      ]
    },
    {
      "cell_type": "code",
      "metadata": {
        "id": "_PfJgbuVqxQR",
        "outputId": "d98bc670-afb3-4836-e78a-c4027ed600f6",
        "colab": {
          "base_uri": "https://localhost:8080/",
          "height": 82
        }
      },
      "source": [
        "#Evaluation 2\n",
        "# Without Imagegenerator\n",
        "\n",
        "train_score = model.evaluate(x_train, y_train, verbose=0)\n",
        "print('Train loss:', train_score[0])\n",
        "print('Train accuracy:', 100*train_score[1])\n",
        " \n",
        "test_score = model.evaluate(x_test, y_test, verbose=0)\n",
        "print('Test loss:', test_score[0])\n",
        "print('Test accuracy:', 100*test_score[1])"
      ],
      "execution_count": null,
      "outputs": [
        {
          "output_type": "stream",
          "text": [
            "Train loss: 0.08906181901693344\n",
            "Train accuracy: 96.9904899597168\n",
            "Test loss: 2.069514274597168\n",
            "Test accuracy: 63.722485303878784\n"
          ],
          "name": "stdout"
        }
      ]
    },
    {
      "cell_type": "code",
      "metadata": {
        "id": "MIOVbRXKhfiP"
      },
      "source": [
        "!ls  \"/content/drive/My Drive\""
      ],
      "execution_count": null,
      "outputs": []
    },
    {
      "cell_type": "code",
      "metadata": {
        "id": "lqpDNxj2gwdw",
        "outputId": "91105680-a86b-4562-f383-b42ff1ec2044",
        "colab": {
          "base_uri": "https://localhost:8080/",
          "height": 565
        }
      },
      "source": [
        "#Testing a file.\n",
        "\n",
        "from keras.preprocessing import image\n",
        "from keras.preprocessing.image import ImageDataGenerator\n",
        "\n",
        "import numpy as np\n",
        "import matplotlib.pyplot as plt\n",
        "\n",
        "\n",
        "file = \"/content/drive/My Drive/deneme2.jpg\"\n",
        "true_image = image.load_img(file)\n",
        "img = image.load_img(file, grayscale=True, target_size=(48, 48))\n",
        "\n",
        "x = image.img_to_array(img)\n",
        "x = np.expand_dims(x, axis = 0)\n",
        "\n",
        "x /= 255\n",
        "\n",
        "custom = model.predict(x)\n",
        "emotion_analysis(custom[0])\n",
        "\n",
        "x = np.array(x, 'float32')\n",
        "x = x.reshape([48, 48]);\n",
        "\n",
        "plt.gray()\n",
        "plt.imshow(true_image)\n",
        "plt.show()"
      ],
      "execution_count": null,
      "outputs": [
        {
          "output_type": "stream",
          "text": [
            "/usr/local/lib/python3.6/dist-packages/keras_preprocessing/image/utils.py:107: UserWarning: grayscale is deprecated. Please use color_mode = \"grayscale\"\n",
            "  warnings.warn('grayscale is deprecated. Please use '\n"
          ],
          "name": "stderr"
        },
        {
          "output_type": "display_data",
          "data": {
            "image/png": "[encoded data removed]",
            "text/plain": [
              "<Figure size 432x288 with 1 Axes>"
            ]
          },
          "metadata": {
            "tags": [],
            "needs_background": "light"
          }
        },
        {
          "output_type": "display_data",
          "data": {
            "image/png": "[encoded data removed]",
            "text/plain": [
              "<Figure size 432x288 with 1 Axes>"
            ]
          },
          "metadata": {
            "tags": [],
            "needs_background": "light"
          }
        }
      ]
    },
    {
      "cell_type": "code",
      "metadata": {
        "id": "YkSBJk8k7F9N"
      },
      "source": [
        ""
      ],
      "execution_count": null,
      "outputs": []
    },
    {
      "cell_type": "code",
      "metadata": {
        "id": "7WIBXhZf_j5O"
      },
      "source": [
        ""
      ],
      "execution_count": null,
      "outputs": []
    },
    {
      "cell_type": "code",
      "metadata": {
        "id": "yNuwc0jG_j-q"
      },
      "source": [
        ""
      ],
      "execution_count": null,
      "outputs": []
    },
    {
      "cell_type": "code",
      "metadata": {
        "id": "kFxchuEl_j80"
      },
      "source": [
        ""
      ],
      "execution_count": null,
      "outputs": []
    },
    {
      "cell_type": "code",
      "metadata": {
        "id": "nX61SOiV_j3D"
      },
      "source": [
        ""
      ],
      "execution_count": null,
      "outputs": []
    }
  ]
}